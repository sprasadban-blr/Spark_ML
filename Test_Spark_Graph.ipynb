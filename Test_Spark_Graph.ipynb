{
 "cells": [
  {
   "cell_type": "code",
   "execution_count": 1,
   "metadata": {},
   "outputs": [],
   "source": [
    "from graphframes import *\n",
    "from pyspark import *\n",
    "from pyspark.sql import *"
   ]
  },
  {
   "cell_type": "code",
   "execution_count": 2,
   "metadata": {},
   "outputs": [],
   "source": [
    "# To install GraphFrame https://stackoverflow.com/questions/39261370/unable-to-run-a-basic-graphframes-example\n",
    "# Download jars: https://spark-packages.org/package/graphframes/graphframes based on your Spark version\n",
    "# After copying graphframe from C:/Users/I050385/.ivy2/jars to C:/D/Spark-2.4.4/jars then run \n",
    "# C:\\D\\Spark-2.4.4\\jars> pyspark --packages graphframes:graphframes:0.7.0-spark2.4-s_2.11 --jars graphframes_graphframes-0.7.0-spark2.4-s_2.11.jar\n",
    "\n",
    "spark = SparkSession.builder.master(\"local[*]\").appName(\"Graph_Test\").getOrCreate()\n",
    "vertices = spark.createDataFrame([('1', 'Carter', 'Derrick', 50), \n",
    "                                  ('2', 'May', 'Derrick', 26),\n",
    "                                 ('3', 'Mills', 'Jeff', 80),\n",
    "                                  ('4', 'Hood', 'Robert', 65),\n",
    "                                  ('5', 'Banks', 'Mike', 93),\n",
    "                                 ('98', 'Berg', 'Tim', 28),\n",
    "                                 ('99', 'Page', 'Allan', 16)],\n",
    "                                 ['id', 'name', 'firstname', 'age'])\n",
    "edges = spark.createDataFrame([('1', '2', 'friend'), \n",
    "                               ('2', '1', 'friend'),\n",
    "                              ('3', '1', 'friend'),\n",
    "                              ('1', '3', 'friend'),\n",
    "                               ('2', '3', 'follows'),\n",
    "                               ('3', '4', 'friend'),\n",
    "                               ('4', '3', 'friend'),\n",
    "                               ('5', '3', 'friend'),\n",
    "                               ('3', '5', 'friend'),\n",
    "                               ('4', '5', 'follows'),\n",
    "                              ('98', '99', 'friend'),\n",
    "                              ('99', '98', 'friend')],\n",
    "                              ['src', 'dst', 'type'])"
   ]
  },
  {
   "cell_type": "code",
   "execution_count": 3,
   "metadata": {},
   "outputs": [],
   "source": [
    "g = GraphFrame(vertices, edges)"
   ]
  },
  {
   "cell_type": "code",
   "execution_count": 4,
   "metadata": {},
   "outputs": [
    {
     "name": "stdout",
     "output_type": "stream",
     "text": [
      "+---+------+---------+---+\n",
      "| id|  name|firstname|age|\n",
      "+---+------+---------+---+\n",
      "|  1|Carter|  Derrick| 50|\n",
      "|  2|   May|  Derrick| 26|\n",
      "|  3| Mills|     Jeff| 80|\n",
      "|  4|  Hood|   Robert| 65|\n",
      "|  5| Banks|     Mike| 93|\n",
      "| 98|  Berg|      Tim| 28|\n",
      "| 99|  Page|    Allan| 16|\n",
      "+---+------+---------+---+\n",
      "\n",
      "+---+---+-------+\n",
      "|src|dst|   type|\n",
      "+---+---+-------+\n",
      "|  1|  2| friend|\n",
      "|  2|  1| friend|\n",
      "|  3|  1| friend|\n",
      "|  1|  3| friend|\n",
      "|  2|  3|follows|\n",
      "|  3|  4| friend|\n",
      "|  4|  3| friend|\n",
      "|  5|  3| friend|\n",
      "|  3|  5| friend|\n",
      "|  4|  5|follows|\n",
      "| 98| 99| friend|\n",
      "| 99| 98| friend|\n",
      "+---+---+-------+\n",
      "\n",
      "+---+------+\n",
      "| id|degree|\n",
      "+---+------+\n",
      "|  3|     7|\n",
      "| 98|     2|\n",
      "| 99|     2|\n",
      "|  5|     3|\n",
      "|  1|     4|\n",
      "|  4|     3|\n",
      "|  2|     3|\n",
      "+---+------+\n",
      "\n"
     ]
    }
   ],
   "source": [
    "g.vertices.show()\n",
    "g.edges.show()\n",
    "g.degrees.show() # degree = in_degree + out_degree"
   ]
  },
  {
   "cell_type": "code",
   "execution_count": 5,
   "metadata": {},
   "outputs": [
    {
     "name": "stdout",
     "output_type": "stream",
     "text": [
      "+---+------+---------+---+\n",
      "| id|  name|firstname|age|\n",
      "+---+------+---------+---+\n",
      "|  1|Carter|  Derrick| 50|\n",
      "|  3| Mills|     Jeff| 80|\n",
      "|  4|  Hood|   Robert| 65|\n",
      "|  5| Banks|     Mike| 93|\n",
      "+---+------+---------+---+\n",
      "\n"
     ]
    }
   ],
   "source": [
    "g.vertices.filter('age > 30').show()"
   ]
  },
  {
   "cell_type": "code",
   "execution_count": 6,
   "metadata": {},
   "outputs": [
    {
     "name": "stdout",
     "output_type": "stream",
     "text": [
      "+---+--------+\n",
      "| id|inDegree|\n",
      "+---+--------+\n",
      "|  3|       4|\n",
      "|  1|       2|\n",
      "|  5|       2|\n",
      "+---+--------+\n",
      "\n"
     ]
    }
   ],
   "source": [
    "g.inDegrees.filter(\"inDegree >= 2\").sort(\"inDegree\", ascending=False).show()"
   ]
  },
  {
   "cell_type": "code",
   "execution_count": 7,
   "metadata": {},
   "outputs": [
    {
     "name": "stdout",
     "output_type": "stream",
     "text": [
      "+---+---------+\n",
      "| id|outDegree|\n",
      "+---+---------+\n",
      "|  3|        3|\n",
      "+---+---------+\n",
      "\n"
     ]
    }
   ],
   "source": [
    "g.outDegrees.filter(\"outDegree >= 3\").sort(\"outDegree\", ascending=False).show()"
   ]
  },
  {
   "cell_type": "code",
   "execution_count": 8,
   "metadata": {},
   "outputs": [],
   "source": [
    "# Finding motifs helps to execute queries to discover structural patterns in graphs\n",
    "# Find the mutual friends for any pair of users a and c. \n",
    "# In order to be a mutual friend b, b must be a friend with both a and c (and not just followed by c, for example)\n",
    "# https://towardsdatascience.com/graphframes-in-jupyter-a-practical-guide-9b3b346cebc5\n",
    "#() --> Vertices, [] --> Edges\n",
    "\n",
    "mutualFriends = g.find(\"(a)-[]->(b); (b)-[]->(c); (c)-[]->(b); (b)-[]->(a)\").dropDuplicates()"
   ]
  },
  {
   "cell_type": "code",
   "execution_count": 9,
   "metadata": {},
   "outputs": [
    {
     "name": "stdout",
     "output_type": "stream",
     "text": [
      "+--------------------+--------------------+--------------------+\n",
      "|                   a|                   b|                   c|\n",
      "+--------------------+--------------------+--------------------+\n",
      "|[2, May, Derrick,...|[1, Carter, Derri...|[3, Mills, Jeff, 80]|\n",
      "+--------------------+--------------------+--------------------+\n",
      "\n"
     ]
    }
   ],
   "source": [
    "mutualFriends.filter('a.id == 2 and c.id == 3').show()"
   ]
  },
  {
   "cell_type": "code",
   "execution_count": 10,
   "metadata": {},
   "outputs": [
    {
     "name": "stdout",
     "output_type": "stream",
     "text": [
      "+-----+---+------+---------+---+\n",
      "|count| id|  name|firstname|age|\n",
      "+-----+---+------+---------+---+\n",
      "|    2|  3| Mills|     Jeff| 80|\n",
      "|    0| 98|  Berg|      Tim| 28|\n",
      "|    0| 99|  Page|    Allan| 16|\n",
      "|    1|  5| Banks|     Mike| 93|\n",
      "|    1|  1|Carter|  Derrick| 50|\n",
      "|    1|  4|  Hood|   Robert| 65|\n",
      "|    1|  2|   May|  Derrick| 26|\n",
      "+-----+---+------+---------+---+\n",
      "\n"
     ]
    }
   ],
   "source": [
    "# Triangle count\n",
    "g.triangleCount().show()"
   ]
  },
  {
   "cell_type": "code",
   "execution_count": 11,
   "metadata": {},
   "outputs": [
    {
     "name": "stdout",
     "output_type": "stream",
     "text": [
      "+---+------+---------+---+------------------+\n",
      "| id|  name|firstname|age|          pagerank|\n",
      "+---+------+---------+---+------------------+\n",
      "|  1|Carter|  Derrick| 50|0.9055074972891308|\n",
      "|  3| Mills|     Jeff| 80| 1.853919642738813|\n",
      "|  2|   May|  Derrick| 26|0.5377967999474921|\n",
      "|  4|  Hood|   Robert| 65|0.6873519241384106|\n",
      "| 98|  Berg|      Tim| 28|1.0225331112091938|\n",
      "|  5| Banks|     Mike| 93|0.9703579134677663|\n",
      "| 99|  Page|    Allan| 16|1.0225331112091938|\n",
      "+---+------+---------+---+------------------+\n",
      "\n",
      "+---+---+-------+------------------+\n",
      "|src|dst|   type|            weight|\n",
      "+---+---+-------+------------------+\n",
      "|  1|  2| friend|               0.5|\n",
      "| 99| 98| friend|               1.0|\n",
      "|  1|  3| friend|               0.5|\n",
      "|  4|  5|follows|               0.5|\n",
      "|  5|  3| friend|               1.0|\n",
      "| 98| 99| friend|               1.0|\n",
      "|  3|  5| friend|0.3333333333333333|\n",
      "|  4|  3| friend|               0.5|\n",
      "|  2|  1| friend|               0.5|\n",
      "|  3|  4| friend|0.3333333333333333|\n",
      "|  3|  1| friend|0.3333333333333333|\n",
      "|  2|  3|follows|               0.5|\n",
      "+---+---+-------+------------------+\n",
      "\n"
     ]
    }
   ],
   "source": [
    "pr = g.pageRank(resetProbability=0.15, tol=0.01)\n",
    "\n",
    "## look at the pagerank score for every vertex\n",
    "pr.vertices.show()\n",
    "\n",
    "## look at the weight of every edge\n",
    "pr.edges.show()"
   ]
  },
  {
   "cell_type": "code",
   "execution_count": 12,
   "metadata": {},
   "outputs": [],
   "source": [
    "# Create DataFrames manually for testing purposes\n",
    "v = spark.createDataFrame([\n",
    "    (\"A\", \"ARON\"  ,350 ),\n",
    "    (\"B\", \"BILL\"  ,360 ),\n",
    "    (\"C\", \"CLAIR\" ,195 ),\n",
    "    (\"D\", \"DANIEL\",90),\n",
    "    (\"E\", \"ERIC\"  ,90),\n",
    "    (\"F\", \"FRANK\" ,215 ),\n",
    "    (\"G\", \"GRAHAM\",30 ),\n",
    "    (\"H\", \"HENRY\" ,25 ),\n",
    "    (\"I\", \"INNA\"  ,25 ),\n",
    "    (\"J\", \"JEN\"   ,20 )\n",
    "], [\"id\", \"name\", \"total_seconds\"])\n",
    "\n",
    "e = spark.createDataFrame([\n",
    "    (\"A\", \"B\", 60),\n",
    "    (\"B\", \"A\", 50),\n",
    "    (\"A\", \"C\", 50),\n",
    "    (\"C\", \"A\", 100),\n",
    "    (\"A\", \"D\", 90),\n",
    "    (\"C\", \"I\", 25),\n",
    "    (\"C\", \"J\", 20),\n",
    "    (\"B\", \"F\", 50),\n",
    "    (\"F\", \"B\", 110),\n",
    "    (\"F\", \"G\", 30),\n",
    "    (\"F\", \"H\", 25),\n",
    "    (\"B\", \"E\", 90)\n",
    "],[\"src\",\"dst\",\"relationship\"])\n",
    "\n",
    "# Now lets construct the graph\n",
    "g1 = GraphFrame(v, e)"
   ]
  },
  {
   "cell_type": "code",
   "execution_count": 13,
   "metadata": {},
   "outputs": [
    {
     "name": "stdout",
     "output_type": "stream",
     "text": [
      "+---+------+-------------+\n",
      "| id|  name|total_seconds|\n",
      "+---+------+-------------+\n",
      "|  A|  ARON|          350|\n",
      "|  B|  BILL|          360|\n",
      "|  C| CLAIR|          195|\n",
      "|  D|DANIEL|           90|\n",
      "|  E|  ERIC|           90|\n",
      "|  F| FRANK|          215|\n",
      "|  G|GRAHAM|           30|\n",
      "|  H| HENRY|           25|\n",
      "|  I|  INNA|           25|\n",
      "|  J|   JEN|           20|\n",
      "+---+------+-------------+\n",
      "\n",
      "+---+---+------------+\n",
      "|src|dst|relationship|\n",
      "+---+---+------------+\n",
      "|  A|  B|          60|\n",
      "|  B|  A|          50|\n",
      "|  A|  C|          50|\n",
      "|  C|  A|         100|\n",
      "|  A|  D|          90|\n",
      "|  C|  I|          25|\n",
      "|  C|  J|          20|\n",
      "|  B|  F|          50|\n",
      "|  F|  B|         110|\n",
      "|  F|  G|          30|\n",
      "|  F|  H|          25|\n",
      "|  B|  E|          90|\n",
      "+---+---+------------+\n",
      "\n"
     ]
    }
   ],
   "source": [
    "verticesDF = g1.vertices \n",
    "edgesDF = g1.edges\n",
    "verticesDF.show()\n",
    "edgesDF.show()"
   ]
  },
  {
   "cell_type": "code",
   "execution_count": 14,
   "metadata": {},
   "outputs": [
    {
     "name": "stdout",
     "output_type": "stream",
     "text": [
      "+---+--------+\n",
      "| id|inDegree|\n",
      "+---+--------+\n",
      "|  B|       2|\n",
      "|  A|       2|\n",
      "|  E|       1|\n",
      "|  F|       1|\n",
      "|  C|       1|\n",
      "|  D|       1|\n",
      "|  J|       1|\n",
      "|  G|       1|\n",
      "|  H|       1|\n",
      "|  I|       1|\n",
      "+---+--------+\n",
      "\n",
      "+---+---------+\n",
      "| id|outDegree|\n",
      "+---+---------+\n",
      "|  B|        3|\n",
      "|  F|        3|\n",
      "|  C|        3|\n",
      "|  A|        3|\n",
      "+---+---------+\n",
      "\n",
      "+---+------+\n",
      "| id|degree|\n",
      "+---+------+\n",
      "|  F|     4|\n",
      "|  E|     1|\n",
      "|  B|     5|\n",
      "|  D|     1|\n",
      "|  C|     4|\n",
      "|  J|     1|\n",
      "|  A|     5|\n",
      "|  G|     1|\n",
      "|  I|     1|\n",
      "|  H|     1|\n",
      "+---+------+\n",
      "\n"
     ]
    }
   ],
   "source": [
    "inDegreeDF = g1.inDegrees\n",
    "outDegreeDF = g1.outDegrees\n",
    "degreeDF = g1.degrees\n",
    "\n",
    "inDegreeDF.sort(['inDegree'],ascending=[0]).show()\n",
    "outDegreeDF.sort(['outDegree'],ascending=[0]).show()\n",
    "degreeDF.show()"
   ]
  },
  {
   "cell_type": "code",
   "execution_count": 16,
   "metadata": {},
   "outputs": [
    {
     "name": "stdout",
     "output_type": "stream",
     "text": [
      "+---+------+-------------+------------------+\n",
      "| id|  name|total_seconds|          pagerank|\n",
      "+---+------+-------------+------------------+\n",
      "|  B|  BILL|          360|1.2457034959159363|\n",
      "|  A|  ARON|          350|1.2457034959159363|\n",
      "|  F| FRANK|          215|0.9751701987230708|\n",
      "|  C| CLAIR|          195|0.9751701987230708|\n",
      "|  D|DANIEL|           90|0.9751701987230708|\n",
      "|  E|  ERIC|           90|0.9751701987230708|\n",
      "|  H| HENRY|           25|0.9019780533189615|\n",
      "|  I|  INNA|           25|0.9019780533189615|\n",
      "|  G|GRAHAM|           30|0.9019780533189615|\n",
      "|  J|   JEN|           20|0.9019780533189615|\n",
      "+---+------+-------------+------------------+\n",
      "\n",
      "+---+---+------------+------------------+\n",
      "|src|dst|relationship|            weight|\n",
      "+---+---+------------+------------------+\n",
      "|  C|  J|          20|0.3333333333333333|\n",
      "|  A|  B|          60|0.3333333333333333|\n",
      "|  B|  F|          50|0.3333333333333333|\n",
      "|  C|  I|          25|0.3333333333333333|\n",
      "|  F|  H|          25|0.3333333333333333|\n",
      "|  C|  A|         100|0.3333333333333333|\n",
      "|  B|  A|          50|0.3333333333333333|\n",
      "|  F|  G|          30|0.3333333333333333|\n",
      "|  A|  D|          90|0.3333333333333333|\n",
      "|  F|  B|         110|0.3333333333333333|\n",
      "|  B|  E|          90|0.3333333333333333|\n",
      "|  A|  C|          50|0.3333333333333333|\n",
      "+---+---+------------+------------------+\n",
      "\n"
     ]
    }
   ],
   "source": [
    "# This one uses the org.apache.spark.graphx.Pregel interface and runs PageRank until convergence. This can be run by setting tol\n",
    "PageRankResults = g1.pageRank(resetProbability=0.15, tol=0.01)\n",
    "PageRankResults.vertices.sort(['pagerank'],ascending=[0]).show()\n",
    "PageRankResults.edges.show()"
   ]
  },
  {
   "cell_type": "code",
   "execution_count": 17,
   "metadata": {},
   "outputs": [
    {
     "name": "stdout",
     "output_type": "stream",
     "text": [
      "+---+------+-------------+------------+\n",
      "| id|  name|total_seconds|       label|\n",
      "+---+------+-------------+------------+\n",
      "|  C| CLAIR|          195|910533066752|\n",
      "|  D|DANIEL|           90|910533066752|\n",
      "|  I|  INNA|           25|420906795008|\n",
      "|  F| FRANK|          215|420906795008|\n",
      "|  J|   JEN|           20|420906795008|\n",
      "|  E|  ERIC|           90|420906795008|\n",
      "|  A|  ARON|          350|420906795008|\n",
      "|  H| HENRY|           25|171798691840|\n",
      "|  G|GRAHAM|           30|171798691840|\n",
      "|  B|  BILL|          360|171798691840|\n",
      "+---+------+-------------+------------+\n",
      "\n"
     ]
    }
   ],
   "source": [
    "#The algorithm generates a DF of nodes with a new column added as \"label\" which contains the community labels\n",
    "result = g1.labelPropagation(maxIter=5)\n",
    "result.sort(['label'], ascending=[0]).show()"
   ]
  },
  {
   "cell_type": "code",
   "execution_count": null,
   "metadata": {},
   "outputs": [],
   "source": []
  }
 ],
 "metadata": {
  "kernelspec": {
   "display_name": "Python 3",
   "language": "python",
   "name": "python3"
  },
  "language_info": {
   "codemirror_mode": {
    "name": "ipython",
    "version": 3
   },
   "file_extension": ".py",
   "mimetype": "text/x-python",
   "name": "python",
   "nbconvert_exporter": "python",
   "pygments_lexer": "ipython3",
   "version": "3.6.8"
  }
 },
 "nbformat": 4,
 "nbformat_minor": 2
}
